{
 "cells": [
  {
   "cell_type": "markdown",
   "metadata": {},
   "source": [
    "Step 2: Establish a dataset with both stock and sentiment"
   ]
  },
  {
   "cell_type": "code",
   "execution_count": 1,
   "metadata": {},
   "outputs": [
    {
     "name": "stderr",
     "output_type": "stream",
     "text": [
      "c:\\Users\\joesc\\anaconda3\\envs\\stock_pred\\Lib\\site-packages\\tqdm\\auto.py:21: TqdmWarning: IProgress not found. Please update jupyter and ipywidgets. See https://ipywidgets.readthedocs.io/en/stable/user_install.html\n",
      "  from .autonotebook import tqdm as notebook_tqdm\n"
     ]
    }
   ],
   "source": [
    "import datetime\n",
    "import pandas as pd\n",
    "import numpy as np\n",
    "from sklearn.model_selection import KFold\n",
    "from transformers import BertTokenizer, BertModel\n",
    "from transformers import get_linear_schedule_with_warmup\n",
    "import torch\n",
    "import torch.nn as nn\n",
    "from torch.utils.data import TensorDataset, DataLoader, RandomSampler, SequentialSampler\n",
    "from torch.optim import AdamW\n",
    "import sys \n",
    "import os\n",
    "sys.path.append(os.path.abspath(\"/Users/13793/Desktop/aas/stock\"))\n",
    "import yfinance as yf\n",
    "import matplotlib.pyplot as plt\n",
    "\n",
    "# Add the project root directory to the Python path\n",
    "import subprocess\n",
    "result = subprocess.check_output([\"git\", \"rev-parse\", \"--show-toplevel\"], universal_newlines=True)\n",
    "git_root = result.strip()\n",
    "sys.path.append(git_root)\n",
    "\n",
    "from src import processer as processer"
   ]
  },
  {
   "cell_type": "markdown",
   "metadata": {},
   "source": [
    "Prepare Sentiment Data"
   ]
  },
  {
   "cell_type": "code",
   "execution_count": 2,
   "metadata": {},
   "outputs": [
    {
     "name": "stderr",
     "output_type": "stream",
     "text": [
      "c:\\Users\\joesc\\anaconda3\\envs\\stock_pred\\Lib\\site-packages\\huggingface_hub\\file_download.py:1132: FutureWarning: `resume_download` is deprecated and will be removed in version 1.0.0. Downloads always resume when possible. If you want to force a new download, use `force_download=True`.\n",
      "  warnings.warn(\n"
     ]
    }
   ],
   "source": [
    "#Set up for BERT\n",
    "tokenizer = BertTokenizer.from_pretrained('bert-base-uncased', do_lower_case = True)\n",
    "MAX_LEN = 50"
   ]
  },
  {
   "cell_type": "code",
   "execution_count": 3,
   "metadata": {},
   "outputs": [],
   "source": [
    "#BERT processing function setup\n",
    "def prep(data):\n",
    "    input_ids = []\n",
    "    attention_masks = []\n",
    "    \n",
    "    for i in data:\n",
    "        encoding = tokenizer.encode_plus(\n",
    "                text=i, \n",
    "                add_special_tokens=True, \n",
    "                padding='max_length', \n",
    "                max_length = MAX_LEN, \n",
    "                truncation=True, \n",
    "                return_tensors=\"pt\", \n",
    "                return_attention_mask=True )\n",
    "\n",
    "        input_ids.append(encoding.get('input_ids'))\n",
    "        attention_masks.append(encoding.get('attention_mask'))\n",
    "    \n",
    "    input_ids = torch.concat(input_ids)\n",
    "    attention_masks = torch.concat(attention_masks)\n",
    "    \n",
    "    return input_ids, attention_masks"
   ]
  },
  {
   "cell_type": "code",
   "execution_count": 4,
   "metadata": {},
   "outputs": [],
   "source": [
    "# Define the Bert NLP Classifier\n",
    "class BertClassifier(nn.Module):\n",
    "    def __init__(self, freeze=False):\n",
    "        super(BertClassifier, self).__init__()\n",
    "        input_layer = 768\n",
    "        hidden_layer = 40\n",
    "        output_layer = 2\n",
    "\n",
    "        self.bert = BertModel.from_pretrained('bert-base-uncased')\n",
    "\n",
    "        self.classifier = nn.Sequential(\n",
    "            nn.Linear(input_layer, hidden_layer), \n",
    "            nn.ReLU(), \n",
    "            nn.Linear(hidden_layer, output_layer))\n",
    "\n",
    "        if freeze:\n",
    "            for i in self.bert.parameters():\n",
    "                i.requires_grad = False\n",
    "        \n",
    "    def forward(self, input_ids, attention_mask):\n",
    "        outputs = self.bert(input_ids, attention_mask)\n",
    "        layer = outputs[0][:, 0, :]\n",
    "        logits = self.classifier(layer)\n",
    "\n",
    "        return logits"
   ]
  },
  {
   "cell_type": "code",
   "execution_count": 5,
   "metadata": {},
   "outputs": [
    {
     "ename": "FileNotFoundError",
     "evalue": "[Errno 2] No such file or directory: 'stock_sentiment_model.pt'",
     "output_type": "error",
     "traceback": [
      "\u001b[1;31m---------------------------------------------------------------------------\u001b[0m",
      "\u001b[1;31mFileNotFoundError\u001b[0m                         Traceback (most recent call last)",
      "Cell \u001b[1;32mIn[5], line 7\u001b[0m\n\u001b[0;32m      5\u001b[0m     device \u001b[38;5;241m=\u001b[39m torch\u001b[38;5;241m.\u001b[39mdevice(\u001b[38;5;124m'\u001b[39m\u001b[38;5;124mcpu\u001b[39m\u001b[38;5;124m'\u001b[39m)\n\u001b[0;32m      6\u001b[0m model \u001b[38;5;241m=\u001b[39m BertClassifier(freeze\u001b[38;5;241m=\u001b[39m\u001b[38;5;28;01mFalse\u001b[39;00m)\n\u001b[1;32m----> 7\u001b[0m model\u001b[38;5;241m.\u001b[39mload_state_dict(\u001b[43mtorch\u001b[49m\u001b[38;5;241;43m.\u001b[39;49m\u001b[43mload\u001b[49m\u001b[43m(\u001b[49m\u001b[38;5;124;43m'\u001b[39;49m\u001b[38;5;124;43mstock_sentiment_model.pt\u001b[39;49m\u001b[38;5;124;43m'\u001b[39;49m\u001b[43m)\u001b[49m)\n\u001b[0;32m      8\u001b[0m model\u001b[38;5;241m.\u001b[39mto(device)\n",
      "File \u001b[1;32mc:\\Users\\joesc\\anaconda3\\envs\\stock_pred\\Lib\\site-packages\\torch\\serialization.py:997\u001b[0m, in \u001b[0;36mload\u001b[1;34m(f, map_location, pickle_module, weights_only, mmap, **pickle_load_args)\u001b[0m\n\u001b[0;32m    994\u001b[0m \u001b[38;5;28;01mif\u001b[39;00m \u001b[38;5;124m'\u001b[39m\u001b[38;5;124mencoding\u001b[39m\u001b[38;5;124m'\u001b[39m \u001b[38;5;129;01mnot\u001b[39;00m \u001b[38;5;129;01min\u001b[39;00m pickle_load_args\u001b[38;5;241m.\u001b[39mkeys():\n\u001b[0;32m    995\u001b[0m     pickle_load_args[\u001b[38;5;124m'\u001b[39m\u001b[38;5;124mencoding\u001b[39m\u001b[38;5;124m'\u001b[39m] \u001b[38;5;241m=\u001b[39m \u001b[38;5;124m'\u001b[39m\u001b[38;5;124mutf-8\u001b[39m\u001b[38;5;124m'\u001b[39m\n\u001b[1;32m--> 997\u001b[0m \u001b[38;5;28;01mwith\u001b[39;00m \u001b[43m_open_file_like\u001b[49m\u001b[43m(\u001b[49m\u001b[43mf\u001b[49m\u001b[43m,\u001b[49m\u001b[43m \u001b[49m\u001b[38;5;124;43m'\u001b[39;49m\u001b[38;5;124;43mrb\u001b[39;49m\u001b[38;5;124;43m'\u001b[39;49m\u001b[43m)\u001b[49m \u001b[38;5;28;01mas\u001b[39;00m opened_file:\n\u001b[0;32m    998\u001b[0m     \u001b[38;5;28;01mif\u001b[39;00m _is_zipfile(opened_file):\n\u001b[0;32m    999\u001b[0m         \u001b[38;5;66;03m# The zipfile reader is going to advance the current file position.\u001b[39;00m\n\u001b[0;32m   1000\u001b[0m         \u001b[38;5;66;03m# If we want to actually tail call to torch.jit.load, we need to\u001b[39;00m\n\u001b[0;32m   1001\u001b[0m         \u001b[38;5;66;03m# reset back to the original position.\u001b[39;00m\n\u001b[0;32m   1002\u001b[0m         orig_position \u001b[38;5;241m=\u001b[39m opened_file\u001b[38;5;241m.\u001b[39mtell()\n",
      "File \u001b[1;32mc:\\Users\\joesc\\anaconda3\\envs\\stock_pred\\Lib\\site-packages\\torch\\serialization.py:444\u001b[0m, in \u001b[0;36m_open_file_like\u001b[1;34m(name_or_buffer, mode)\u001b[0m\n\u001b[0;32m    442\u001b[0m \u001b[38;5;28;01mdef\u001b[39;00m \u001b[38;5;21m_open_file_like\u001b[39m(name_or_buffer, mode):\n\u001b[0;32m    443\u001b[0m     \u001b[38;5;28;01mif\u001b[39;00m _is_path(name_or_buffer):\n\u001b[1;32m--> 444\u001b[0m         \u001b[38;5;28;01mreturn\u001b[39;00m \u001b[43m_open_file\u001b[49m\u001b[43m(\u001b[49m\u001b[43mname_or_buffer\u001b[49m\u001b[43m,\u001b[49m\u001b[43m \u001b[49m\u001b[43mmode\u001b[49m\u001b[43m)\u001b[49m\n\u001b[0;32m    445\u001b[0m     \u001b[38;5;28;01melse\u001b[39;00m:\n\u001b[0;32m    446\u001b[0m         \u001b[38;5;28;01mif\u001b[39;00m \u001b[38;5;124m'\u001b[39m\u001b[38;5;124mw\u001b[39m\u001b[38;5;124m'\u001b[39m \u001b[38;5;129;01min\u001b[39;00m mode:\n",
      "File \u001b[1;32mc:\\Users\\joesc\\anaconda3\\envs\\stock_pred\\Lib\\site-packages\\torch\\serialization.py:425\u001b[0m, in \u001b[0;36m_open_file.__init__\u001b[1;34m(self, name, mode)\u001b[0m\n\u001b[0;32m    424\u001b[0m \u001b[38;5;28;01mdef\u001b[39;00m \u001b[38;5;21m__init__\u001b[39m(\u001b[38;5;28mself\u001b[39m, name, mode):\n\u001b[1;32m--> 425\u001b[0m     \u001b[38;5;28msuper\u001b[39m()\u001b[38;5;241m.\u001b[39m\u001b[38;5;21m__init__\u001b[39m(\u001b[38;5;28;43mopen\u001b[39;49m\u001b[43m(\u001b[49m\u001b[43mname\u001b[49m\u001b[43m,\u001b[49m\u001b[43m \u001b[49m\u001b[43mmode\u001b[49m\u001b[43m)\u001b[49m)\n",
      "\u001b[1;31mFileNotFoundError\u001b[0m: [Errno 2] No such file or directory: 'stock_sentiment_model.pt'"
     ]
    }
   ],
   "source": [
    "# Check if GPU is available and assign device \n",
    "if torch.cuda.is_available():       \n",
    "    device = torch.device('cuda')\n",
    "else:\n",
    "    device = torch.device('cpu')\n",
    "model = BertClassifier(freeze=False)\n",
    "model.load_state_dict(torch.load('stock_sentiment_model.pt'))\n",
    "model.to(device)"
   ]
  },
  {
   "cell_type": "code",
   "execution_count": null,
   "metadata": {},
   "outputs": [
    {
     "name": "stderr",
     "output_type": "stream",
     "text": [
      "c:\\Users\\13793\\anaconda3\\Lib\\site-packages\\pandas\\core\\strings\\object_array.py:172: FutureWarning: Possible nested set at position 1\n",
      "  pat = re.compile(pat, flags=flags)\n",
      "c:\\Users\\13793\\anaconda3\\Lib\\site-packages\\transformers\\models\\bert\\modeling_bert.py:435: UserWarning: 1Torch was not compiled with flash attention. (Triggered internally at ..\\aten\\src\\ATen\\native\\transformers\\cuda\\sdp_utils.cpp:455.)\n",
      "  attn_output = torch.nn.functional.scaled_dot_product_attention(\n"
     ]
    },
    {
     "name": "stdout",
     "output_type": "stream",
     "text": [
      "aal - completed\n",
      "aapl - completed\n",
      "adbe - completed\n",
      "adp - completed\n",
      "adsk - completed\n",
      "akam - completed\n",
      "alxn - completed\n",
      "amat - completed\n",
      "amgn - completed\n",
      "amzn - completed\n",
      "atvi - completed\n",
      "avgo - completed\n",
      "bbby - completed\n",
      "bidu - completed\n",
      "bmrn - completed\n",
      "ca - completed\n",
      "celg - completed\n",
      "cern - completed\n",
      "chkp - completed\n",
      "chtr - completed\n",
      "cmcsa - completed\n",
      "cost - completed\n",
      "csco - completed\n",
      "csx - completed\n",
      "ctrp - completed\n",
      "ctsh - completed\n",
      "disca - completed\n",
      "disck - completed\n",
      "dish - completed\n",
      "dltr - completed\n",
      "ea - completed\n",
      "ebay - completed\n",
      "endp - completed\n",
      "esrx - completed\n",
      "expe - completed\n",
      "fast - completed\n",
      "fb - completed\n",
      "fisv - completed\n",
      "fox - completed\n",
      "googl - completed\n",
      "goog - completed\n",
      "jd - completed\n",
      "lbtya - completed\n",
      "lmca - completed\n",
      "lmck - completed\n",
      "lvnta - completed\n",
      "mar - completed\n",
      "mdlz - completed\n",
      "msft - completed\n",
      "mu - completed\n",
      "mxim - completed\n",
      "myl - completed\n",
      "nclh - completed\n",
      "nflx - completed\n",
      "ntes - completed\n",
      "nvda - completed\n",
      "nxpi - completed\n",
      "payx - completed\n",
      "pcar - completed\n",
      "pcln - completed\n",
      "pypl - completed\n",
      "qcom - completed\n",
      "regn - completed\n",
      "rost - completed\n",
      "sbac - completed\n",
      "sndk - completed\n",
      "srcl - completed\n",
      "stx - completed\n",
      "swks - completed\n",
      "tsla - completed\n",
      "txn - completed\n",
      "ulta - completed\n",
      "viab - completed\n",
      "wdc - completed\n",
      "yhoo - completed\n"
     ]
    }
   ],
   "source": [
    "# Get the list of stock data to convert\n",
    "files = os.listdir('data/')\n",
    "\n",
    "# for each stock files\n",
    "for x in range(len(files)):\n",
    "    stock = pd.read_excel('data/'+files[x] + '/export_dashboard_' + files[x], sheet_name='Stream')\n",
    "\n",
    "    # Assign the ticker name as a column\n",
    "    stock['Ticker'] = files[x].split('_')[0]\n",
    "    \n",
    "    # Convert string date times to datetime\n",
    "    stock['Date'] = pd.to_datetime(stock['Date'])\n",
    "    stock['Hour'] = stock['Hour'].apply(lambda t: pd.Timedelta(hours=int(t[:2]), minutes=int(t[3:])))\n",
    "    stock['Datetime'] = stock['Date'] + stock['Hour']\n",
    "\n",
    "    # Rename column that holds the tweets content to aligh with previous model\n",
    "    stock.rename(columns = {'Tweet content':'Text'}, inplace = True)\n",
    "\n",
    "    # Pre process the tweet content\n",
    "    stock = processer.Preprocess_Tweets(stock)\n",
    "\n",
    "    # Remove excess columns\n",
    "    stock = stock[['Text', 'Favs', 'RTs', 'Tweet Id', 'Ticker', 'Datetime', 'Followers', 'Following']]\n",
    "    \n",
    "    # Fill NAs in Favs, RTs, Followers and Following with 0\n",
    "    stock = stock.fillna(0)\n",
    "\n",
    "    # Encode processed tweets for Bert NLP model\n",
    "    stock_inputs, stock_masks = prep(stock['Text'].values)\n",
    "\n",
    "    batch_size = 16\n",
    "    stock_data = TensorDataset(stock_inputs, stock_masks)\n",
    "    stock_sampler = RandomSampler(stock_data)\n",
    "    stock_dataloader = DataLoader(stock_data, sampler=stock_sampler, batch_size=batch_size)\n",
    "\n",
    "    model.eval()\n",
    "\n",
    "    predictions = []\n",
    "    # Hidden Feature: Use the ratio of Logits to classify if it the pos/neg is strong or weak, discarded due to no significant improvement\n",
    "    #log1 = []\n",
    "    #log2 = []\n",
    "    for batch in stock_dataloader:\n",
    "        # Get encoded inputs and masks \n",
    "        batch_inputs, batch_masks = batch\n",
    "\n",
    "        # Send variables to device (GPU if available)\n",
    "        batch_inputs = batch_inputs.to(device)\n",
    "        batch_masks = batch_masks.to(device)\n",
    "\n",
    "        # Predict classes with Bert for given inputs \n",
    "        with torch.no_grad():\n",
    "            logits = model(batch_inputs, batch_masks)\n",
    "\n",
    "        # Convert predictions to 0s and 1s\n",
    "        preds = torch.argmax(logits, dim=1).flatten()\n",
    "        predictions.append(preds)\n",
    "        #log1.append(logits[:,0])\n",
    "        #log2.append(logits[:,1])\n",
    "    # Combine all batch predictions\n",
    "    predictions = torch.cat(predictions).cpu().numpy()\n",
    "    #log1 = torch.cat(log1).cpu().numpy()\n",
    "    #log2 = torch.cat(log2).cpu().numpy()\n",
    "\n",
    "    # Add predictions to stock dataframe\n",
    "    stock['Sentiment'] = predictions\n",
    "    #stock['log1'] = log1\n",
    "    #stock['log2'] = log2\n",
    "    \n",
    "    # save predictions as new csv\n",
    "    stock.to_csv('data/'+files[x] +'/stock_data_sentiment.csv', index=False)\n",
    "    \n",
    "    # Show each stock completed \n",
    "    print(files[x].split('_')[0], '- completed')"
   ]
  },
  {
   "cell_type": "code",
   "execution_count": null,
   "metadata": {},
   "outputs": [
    {
     "data": {
      "text/html": [
       "<div>\n",
       "<style scoped>\n",
       "    .dataframe tbody tr th:only-of-type {\n",
       "        vertical-align: middle;\n",
       "    }\n",
       "\n",
       "    .dataframe tbody tr th {\n",
       "        vertical-align: top;\n",
       "    }\n",
       "\n",
       "    .dataframe thead th {\n",
       "        text-align: right;\n",
       "    }\n",
       "</style>\n",
       "<table border=\"1\" class=\"dataframe\">\n",
       "  <thead>\n",
       "    <tr style=\"text-align: right;\">\n",
       "      <th></th>\n",
       "      <th>Tweet Id</th>\n",
       "      <th>Ticker</th>\n",
       "      <th>Datetime</th>\n",
       "      <th>Text</th>\n",
       "      <th>Favs</th>\n",
       "      <th>RTs</th>\n",
       "      <th>Followers</th>\n",
       "      <th>Following</th>\n",
       "      <th>Is a RT</th>\n",
       "      <th>Sentiment</th>\n",
       "    </tr>\n",
       "  </thead>\n",
       "  <tbody>\n",
       "    <tr>\n",
       "      <th>0</th>\n",
       "      <td>742609908462440448</td>\n",
       "      <td>fox</td>\n",
       "      <td>2016-06-14 06:49:00</td>\n",
       "      <td>fiduciary management inc wi takes position twe...</td>\n",
       "      <td>0.0</td>\n",
       "      <td>0.0</td>\n",
       "      <td>998.0</td>\n",
       "      <td>0.0</td>\n",
       "      <td>False</td>\n",
       "      <td>0</td>\n",
       "    </tr>\n",
       "    <tr>\n",
       "      <th>1</th>\n",
       "      <td>742541587188580352</td>\n",
       "      <td>fox</td>\n",
       "      <td>2016-06-14 02:18:00</td>\n",
       "      <td></td>\n",
       "      <td>0.0</td>\n",
       "      <td>0.0</td>\n",
       "      <td>4.0</td>\n",
       "      <td>21.0</td>\n",
       "      <td>False</td>\n",
       "      <td>1</td>\n",
       "    </tr>\n",
       "    <tr>\n",
       "      <th>2</th>\n",
       "      <td>742506407065354244</td>\n",
       "      <td>fox</td>\n",
       "      <td>2016-06-13 23:58:00</td>\n",
       "      <td>twenty first century foxs fox networks group c...</td>\n",
       "      <td>0.0</td>\n",
       "      <td>0.0</td>\n",
       "      <td>14.0</td>\n",
       "      <td>2.0</td>\n",
       "      <td>False</td>\n",
       "      <td>0</td>\n",
       "    </tr>\n",
       "    <tr>\n",
       "      <th>3</th>\n",
       "      <td>742478563400515585</td>\n",
       "      <td>fox</td>\n",
       "      <td>2016-06-13 22:07:00</td>\n",
       "      <td>fox networks longtime cfo mayberry retire read</td>\n",
       "      <td>0.0</td>\n",
       "      <td>0.0</td>\n",
       "      <td>14.0</td>\n",
       "      <td>2.0</td>\n",
       "      <td>False</td>\n",
       "      <td>0</td>\n",
       "    </tr>\n",
       "    <tr>\n",
       "      <th>4</th>\n",
       "      <td>742478408072847360</td>\n",
       "      <td>fox</td>\n",
       "      <td>2016-06-13 22:07:00</td>\n",
       "      <td>fox networks names ahuja cfo read</td>\n",
       "      <td>0.0</td>\n",
       "      <td>0.0</td>\n",
       "      <td>14.0</td>\n",
       "      <td>2.0</td>\n",
       "      <td>False</td>\n",
       "      <td>1</td>\n",
       "    </tr>\n",
       "    <tr>\n",
       "      <th>...</th>\n",
       "      <td>...</td>\n",
       "      <td>...</td>\n",
       "      <td>...</td>\n",
       "      <td>...</td>\n",
       "      <td>...</td>\n",
       "      <td>...</td>\n",
       "      <td>...</td>\n",
       "      <td>...</td>\n",
       "      <td>...</td>\n",
       "      <td>...</td>\n",
       "    </tr>\n",
       "    <tr>\n",
       "      <th>974</th>\n",
       "      <td>714331534879289344</td>\n",
       "      <td>fox</td>\n",
       "      <td>2016-03-28 06:01:00</td>\n",
       "      <td>fox twenty first century fox inc – get news ra...</td>\n",
       "      <td>0.0</td>\n",
       "      <td>0.0</td>\n",
       "      <td>700.0</td>\n",
       "      <td>1.0</td>\n",
       "      <td>False</td>\n",
       "      <td>1</td>\n",
       "    </tr>\n",
       "    <tr>\n",
       "      <th>975</th>\n",
       "      <td>714321716164608000</td>\n",
       "      <td>fox</td>\n",
       "      <td>2016-03-28 05:22:00</td>\n",
       "      <td>fox large outflow money witnessed twenty first...</td>\n",
       "      <td>0.0</td>\n",
       "      <td>0.0</td>\n",
       "      <td>866.0</td>\n",
       "      <td>9.0</td>\n",
       "      <td>False</td>\n",
       "      <td>1</td>\n",
       "    </tr>\n",
       "    <tr>\n",
       "      <th>976</th>\n",
       "      <td>714316254450855936</td>\n",
       "      <td>fox</td>\n",
       "      <td>2016-03-28 05:00:00</td>\n",
       "      <td>פוקס מצגת לשוק ההון מרץ 2016 fox</td>\n",
       "      <td>0.0</td>\n",
       "      <td>0.0</td>\n",
       "      <td>403.0</td>\n",
       "      <td>2.0</td>\n",
       "      <td>False</td>\n",
       "      <td>1</td>\n",
       "    </tr>\n",
       "    <tr>\n",
       "      <th>977</th>\n",
       "      <td>714228580075585536</td>\n",
       "      <td>fox</td>\n",
       "      <td>2016-03-27 23:12:00</td>\n",
       "      <td>fox top stocks day twenty first century fox in...</td>\n",
       "      <td>0.0</td>\n",
       "      <td>0.0</td>\n",
       "      <td>703.0</td>\n",
       "      <td>5.0</td>\n",
       "      <td>False</td>\n",
       "      <td>1</td>\n",
       "    </tr>\n",
       "    <tr>\n",
       "      <th>978</th>\n",
       "      <td>714211975643930628</td>\n",
       "      <td>fox</td>\n",
       "      <td>2016-03-27 22:06:00</td>\n",
       "      <td>fox twenty first century fox fox short interes...</td>\n",
       "      <td>0.0</td>\n",
       "      <td>0.0</td>\n",
       "      <td>866.0</td>\n",
       "      <td>9.0</td>\n",
       "      <td>False</td>\n",
       "      <td>1</td>\n",
       "    </tr>\n",
       "  </tbody>\n",
       "</table>\n",
       "<p>979 rows × 10 columns</p>\n",
       "</div>"
      ],
      "text/plain": [
       "               Tweet Id Ticker            Datetime  \\\n",
       "0    742609908462440448    fox 2016-06-14 06:49:00   \n",
       "1    742541587188580352    fox 2016-06-14 02:18:00   \n",
       "2    742506407065354244    fox 2016-06-13 23:58:00   \n",
       "3    742478563400515585    fox 2016-06-13 22:07:00   \n",
       "4    742478408072847360    fox 2016-06-13 22:07:00   \n",
       "..                  ...    ...                 ...   \n",
       "974  714331534879289344    fox 2016-03-28 06:01:00   \n",
       "975  714321716164608000    fox 2016-03-28 05:22:00   \n",
       "976  714316254450855936    fox 2016-03-28 05:00:00   \n",
       "977  714228580075585536    fox 2016-03-27 23:12:00   \n",
       "978  714211975643930628    fox 2016-03-27 22:06:00   \n",
       "\n",
       "                                                  Text  Favs  RTs  Followers  \\\n",
       "0    fiduciary management inc wi takes position twe...   0.0  0.0      998.0   \n",
       "1                                                        0.0  0.0        4.0   \n",
       "2    twenty first century foxs fox networks group c...   0.0  0.0       14.0   \n",
       "3       fox networks longtime cfo mayberry retire read   0.0  0.0       14.0   \n",
       "4                    fox networks names ahuja cfo read   0.0  0.0       14.0   \n",
       "..                                                 ...   ...  ...        ...   \n",
       "974  fox twenty first century fox inc – get news ra...   0.0  0.0      700.0   \n",
       "975  fox large outflow money witnessed twenty first...   0.0  0.0      866.0   \n",
       "976                   פוקס מצגת לשוק ההון מרץ 2016 fox   0.0  0.0      403.0   \n",
       "977  fox top stocks day twenty first century fox in...   0.0  0.0      703.0   \n",
       "978  fox twenty first century fox fox short interes...   0.0  0.0      866.0   \n",
       "\n",
       "     Following  Is a RT  Sentiment  \n",
       "0          0.0    False          0  \n",
       "1         21.0    False          1  \n",
       "2          2.0    False          0  \n",
       "3          2.0    False          0  \n",
       "4          2.0    False          1  \n",
       "..         ...      ...        ...  \n",
       "974        1.0    False          1  \n",
       "975        9.0    False          1  \n",
       "976        2.0    False          1  \n",
       "977        5.0    False          1  \n",
       "978        9.0    False          1  \n",
       "\n",
       "[979 rows x 10 columns]"
      ]
     },
     "metadata": {},
     "output_type": "display_data"
    }
   ],
   "source": []
  },
  {
   "cell_type": "code",
   "execution_count": null,
   "metadata": {},
   "outputs": [
    {
     "data": {
      "text/html": [
       "<div>\n",
       "<style scoped>\n",
       "    .dataframe tbody tr th:only-of-type {\n",
       "        vertical-align: middle;\n",
       "    }\n",
       "\n",
       "    .dataframe tbody tr th {\n",
       "        vertical-align: top;\n",
       "    }\n",
       "\n",
       "    .dataframe thead th {\n",
       "        text-align: right;\n",
       "    }\n",
       "</style>\n",
       "<table border=\"1\" class=\"dataframe\">\n",
       "  <thead>\n",
       "    <tr style=\"text-align: right;\">\n",
       "      <th></th>\n",
       "      <th>Tweet Id</th>\n",
       "      <th>Ticker</th>\n",
       "      <th>Datetime</th>\n",
       "      <th>Text</th>\n",
       "      <th>Favs</th>\n",
       "      <th>RTs</th>\n",
       "      <th>Followers</th>\n",
       "      <th>Following</th>\n",
       "      <th>Is a RT</th>\n",
       "      <th>Sentiment</th>\n",
       "      <th>log1</th>\n",
       "      <th>log2</th>\n",
       "    </tr>\n",
       "  </thead>\n",
       "  <tbody>\n",
       "    <tr>\n",
       "      <th>0</th>\n",
       "      <td>743011665663295491</td>\n",
       "      <td>aal</td>\n",
       "      <td>2016-06-15 09:26:00</td>\n",
       "      <td>american airlines group inc aal novo nordisk n...</td>\n",
       "      <td>0.0</td>\n",
       "      <td>0.0</td>\n",
       "      <td>2039.0</td>\n",
       "      <td>108.0</td>\n",
       "      <td>False</td>\n",
       "      <td>1</td>\n",
       "      <td>-1.433798</td>\n",
       "      <td>1.503579</td>\n",
       "    </tr>\n",
       "    <tr>\n",
       "      <th>1</th>\n",
       "      <td>742994700563558400</td>\n",
       "      <td>aal</td>\n",
       "      <td>2016-06-15 08:18:00</td>\n",
       "      <td>yesterdays top fallers anglo american aal anto...</td>\n",
       "      <td>0.0</td>\n",
       "      <td>0.0</td>\n",
       "      <td>1792.0</td>\n",
       "      <td>80.0</td>\n",
       "      <td>False</td>\n",
       "      <td>0</td>\n",
       "      <td>2.224170</td>\n",
       "      <td>-1.971137</td>\n",
       "    </tr>\n",
       "    <tr>\n",
       "      <th>2</th>\n",
       "      <td>742991573181423618</td>\n",
       "      <td>aal</td>\n",
       "      <td>2016-06-15 08:06:00</td>\n",
       "      <td>saquickideas 5 large cap stocks lowest enterpr...</td>\n",
       "      <td>0.0</td>\n",
       "      <td>0.0</td>\n",
       "      <td>1589.0</td>\n",
       "      <td>1376.0</td>\n",
       "      <td>False</td>\n",
       "      <td>1</td>\n",
       "      <td>-0.467920</td>\n",
       "      <td>0.300075</td>\n",
       "    </tr>\n",
       "    <tr>\n",
       "      <th>3</th>\n",
       "      <td>742991250899513345</td>\n",
       "      <td>aal</td>\n",
       "      <td>2016-06-15 08:04:00</td>\n",
       "      <td>jpmorgan chase co reiterates underweight ratin...</td>\n",
       "      <td>0.0</td>\n",
       "      <td>0.0</td>\n",
       "      <td>771.0</td>\n",
       "      <td>8.0</td>\n",
       "      <td>False</td>\n",
       "      <td>1</td>\n",
       "      <td>-2.240959</td>\n",
       "      <td>2.582918</td>\n",
       "    </tr>\n",
       "    <tr>\n",
       "      <th>4</th>\n",
       "      <td>742990282380173313</td>\n",
       "      <td>aal</td>\n",
       "      <td>2016-06-15 08:01:00</td>\n",
       "      <td>dal aal 5 large cap stocks lowest enterprise m...</td>\n",
       "      <td>0.0</td>\n",
       "      <td>0.0</td>\n",
       "      <td>788.0</td>\n",
       "      <td>6.0</td>\n",
       "      <td>False</td>\n",
       "      <td>0</td>\n",
       "      <td>1.137528</td>\n",
       "      <td>-0.740291</td>\n",
       "    </tr>\n",
       "    <tr>\n",
       "      <th>...</th>\n",
       "      <td>...</td>\n",
       "      <td>...</td>\n",
       "      <td>...</td>\n",
       "      <td>...</td>\n",
       "      <td>...</td>\n",
       "      <td>...</td>\n",
       "      <td>...</td>\n",
       "      <td>...</td>\n",
       "      <td>...</td>\n",
       "      <td>...</td>\n",
       "      <td>...</td>\n",
       "      <td>...</td>\n",
       "    </tr>\n",
       "    <tr>\n",
       "      <th>6502</th>\n",
       "      <td>707914551908552705</td>\n",
       "      <td>aal</td>\n",
       "      <td>2016-03-10 13:02:00</td>\n",
       "      <td>u vie 4 flights</td>\n",
       "      <td>1.0</td>\n",
       "      <td>0.0</td>\n",
       "      <td>248.0</td>\n",
       "      <td>156.0</td>\n",
       "      <td>False</td>\n",
       "      <td>1</td>\n",
       "      <td>-2.230855</td>\n",
       "      <td>2.607503</td>\n",
       "    </tr>\n",
       "    <tr>\n",
       "      <th>6503</th>\n",
       "      <td>707908040348016640</td>\n",
       "      <td>aal</td>\n",
       "      <td>2016-03-10 12:36:00</td>\n",
       "      <td>new stock pick psnp picking up serious attenti...</td>\n",
       "      <td>0.0</td>\n",
       "      <td>0.0</td>\n",
       "      <td>12543.0</td>\n",
       "      <td>0.0</td>\n",
       "      <td>False</td>\n",
       "      <td>1</td>\n",
       "      <td>-2.363000</td>\n",
       "      <td>2.709309</td>\n",
       "    </tr>\n",
       "    <tr>\n",
       "      <th>6504</th>\n",
       "      <td>707907421889495040</td>\n",
       "      <td>aal</td>\n",
       "      <td>2016-03-10 12:34:00</td>\n",
       "      <td>hot new stock alert psnp things really poised ...</td>\n",
       "      <td>0.0</td>\n",
       "      <td>0.0</td>\n",
       "      <td>19713.0</td>\n",
       "      <td>0.0</td>\n",
       "      <td>False</td>\n",
       "      <td>0</td>\n",
       "      <td>2.784819</td>\n",
       "      <td>-2.445995</td>\n",
       "    </tr>\n",
       "    <tr>\n",
       "      <th>6505</th>\n",
       "      <td>707906875690512385</td>\n",
       "      <td>aal</td>\n",
       "      <td>2016-03-10 12:32:00</td>\n",
       "      <td>mineral exploration company heating up fast se...</td>\n",
       "      <td>0.0</td>\n",
       "      <td>0.0</td>\n",
       "      <td>12556.0</td>\n",
       "      <td>0.0</td>\n",
       "      <td>False</td>\n",
       "      <td>0</td>\n",
       "      <td>1.067521</td>\n",
       "      <td>-1.100528</td>\n",
       "    </tr>\n",
       "    <tr>\n",
       "      <th>6506</th>\n",
       "      <td>707859062738669569</td>\n",
       "      <td>aal</td>\n",
       "      <td>2016-03-10 09:22:00</td>\n",
       "      <td>aal exchange see greater aal mitk anth</td>\n",
       "      <td>0.0</td>\n",
       "      <td>0.0</td>\n",
       "      <td>19.0</td>\n",
       "      <td>40.0</td>\n",
       "      <td>False</td>\n",
       "      <td>1</td>\n",
       "      <td>-2.364469</td>\n",
       "      <td>2.807173</td>\n",
       "    </tr>\n",
       "  </tbody>\n",
       "</table>\n",
       "<p>6507 rows × 12 columns</p>\n",
       "</div>"
      ],
      "text/plain": [
       "                Tweet Id Ticker            Datetime  \\\n",
       "0     743011665663295491    aal 2016-06-15 09:26:00   \n",
       "1     742994700563558400    aal 2016-06-15 08:18:00   \n",
       "2     742991573181423618    aal 2016-06-15 08:06:00   \n",
       "3     742991250899513345    aal 2016-06-15 08:04:00   \n",
       "4     742990282380173313    aal 2016-06-15 08:01:00   \n",
       "...                  ...    ...                 ...   \n",
       "6502  707914551908552705    aal 2016-03-10 13:02:00   \n",
       "6503  707908040348016640    aal 2016-03-10 12:36:00   \n",
       "6504  707907421889495040    aal 2016-03-10 12:34:00   \n",
       "6505  707906875690512385    aal 2016-03-10 12:32:00   \n",
       "6506  707859062738669569    aal 2016-03-10 09:22:00   \n",
       "\n",
       "                                                   Text  Favs  RTs  Followers  \\\n",
       "0     american airlines group inc aal novo nordisk n...   0.0  0.0     2039.0   \n",
       "1     yesterdays top fallers anglo american aal anto...   0.0  0.0     1792.0   \n",
       "2     saquickideas 5 large cap stocks lowest enterpr...   0.0  0.0     1589.0   \n",
       "3     jpmorgan chase co reiterates underweight ratin...   0.0  0.0      771.0   \n",
       "4     dal aal 5 large cap stocks lowest enterprise m...   0.0  0.0      788.0   \n",
       "...                                                 ...   ...  ...        ...   \n",
       "6502                                    u vie 4 flights   1.0  0.0      248.0   \n",
       "6503  new stock pick psnp picking up serious attenti...   0.0  0.0    12543.0   \n",
       "6504  hot new stock alert psnp things really poised ...   0.0  0.0    19713.0   \n",
       "6505  mineral exploration company heating up fast se...   0.0  0.0    12556.0   \n",
       "6506             aal exchange see greater aal mitk anth   0.0  0.0       19.0   \n",
       "\n",
       "      Following  Is a RT  Sentiment      log1      log2  \n",
       "0         108.0    False          1 -1.433798  1.503579  \n",
       "1          80.0    False          0  2.224170 -1.971137  \n",
       "2        1376.0    False          1 -0.467920  0.300075  \n",
       "3           8.0    False          1 -2.240959  2.582918  \n",
       "4           6.0    False          0  1.137528 -0.740291  \n",
       "...         ...      ...        ...       ...       ...  \n",
       "6502      156.0    False          1 -2.230855  2.607503  \n",
       "6503        0.0    False          1 -2.363000  2.709309  \n",
       "6504        0.0    False          0  2.784819 -2.445995  \n",
       "6505        0.0    False          0  1.067521 -1.100528  \n",
       "6506       40.0    False          1 -2.364469  2.807173  \n",
       "\n",
       "[6507 rows x 12 columns]"
      ]
     },
     "metadata": {},
     "output_type": "display_data"
    }
   ],
   "source": []
  },
  {
   "cell_type": "markdown",
   "metadata": {},
   "source": [
    "Merge with stock data"
   ]
  },
  {
   "cell_type": "code",
   "execution_count": null,
   "metadata": {},
   "outputs": [
    {
     "name": "stderr",
     "output_type": "stream",
     "text": [
      "[*********************100%%**********************]  1 of 1 completed\n"
     ]
    },
    {
     "name": "stdout",
     "output_type": "stream",
     "text": [
      "aal - Completed\n"
     ]
    },
    {
     "name": "stderr",
     "output_type": "stream",
     "text": [
      "[*********************100%%**********************]  1 of 1 completed\n",
      "[*********************100%%**********************]  1 of 1 completed\n"
     ]
    },
    {
     "name": "stdout",
     "output_type": "stream",
     "text": [
      "aapl - Completed\n",
      "adbe - Completed\n"
     ]
    },
    {
     "name": "stderr",
     "output_type": "stream",
     "text": [
      "[*********************100%%**********************]  1 of 1 completed\n",
      "[*********************100%%**********************]  1 of 1 completed\n"
     ]
    },
    {
     "name": "stdout",
     "output_type": "stream",
     "text": [
      "adp - Completed\n",
      "adsk - Completed\n"
     ]
    },
    {
     "name": "stderr",
     "output_type": "stream",
     "text": [
      "[*********************100%%**********************]  1 of 1 completed\n"
     ]
    },
    {
     "name": "stdout",
     "output_type": "stream",
     "text": [
      "akam - Completed\n"
     ]
    },
    {
     "name": "stderr",
     "output_type": "stream",
     "text": [
      "[*********************100%%**********************]  1 of 1 completed\n",
      "\n",
      "1 Failed download:\n",
      "['ALXN']: YFTzMissingError('$%ticker%: possibly delisted; No timezone found')\n",
      "[*********************100%%**********************]  1 of 1 completed\n"
     ]
    },
    {
     "name": "stdout",
     "output_type": "stream",
     "text": [
      "alxn - attempt to get argmax of an empty sequence\n",
      "amat - Completed\n"
     ]
    },
    {
     "name": "stderr",
     "output_type": "stream",
     "text": [
      "[*********************100%%**********************]  1 of 1 completed\n"
     ]
    },
    {
     "name": "stdout",
     "output_type": "stream",
     "text": [
      "amgn - Completed\n"
     ]
    },
    {
     "name": "stderr",
     "output_type": "stream",
     "text": [
      "[*********************100%%**********************]  1 of 1 completed\n"
     ]
    },
    {
     "name": "stdout",
     "output_type": "stream",
     "text": [
      "amzn - Completed\n"
     ]
    },
    {
     "name": "stderr",
     "output_type": "stream",
     "text": [
      "[*********************100%%**********************]  1 of 1 completed\n",
      "\n",
      "1 Failed download:\n",
      "['ATVI']: YFTzMissingError('$%ticker%: possibly delisted; No timezone found')\n",
      "[*********************100%%**********************]  1 of 1 completed"
     ]
    },
    {
     "name": "stdout",
     "output_type": "stream",
     "text": [
      "atvi - attempt to get argmax of an empty sequence\n"
     ]
    },
    {
     "name": "stderr",
     "output_type": "stream",
     "text": [
      "\n"
     ]
    },
    {
     "name": "stdout",
     "output_type": "stream",
     "text": [
      "avgo - Completed\n"
     ]
    },
    {
     "name": "stderr",
     "output_type": "stream",
     "text": [
      "[*********************100%%**********************]  1 of 1 completed\n",
      "\n",
      "1 Failed download:\n",
      "['BBBY']: YFTzMissingError('$%ticker%: possibly delisted; No timezone found')\n",
      "[*********************100%%**********************]  1 of 1 completed\n"
     ]
    },
    {
     "name": "stdout",
     "output_type": "stream",
     "text": [
      "bbby - attempt to get argmax of an empty sequence\n",
      "bidu - Completed\n"
     ]
    },
    {
     "name": "stderr",
     "output_type": "stream",
     "text": [
      "[*********************100%%**********************]  1 of 1 completed\n"
     ]
    },
    {
     "name": "stdout",
     "output_type": "stream",
     "text": [
      "bmrn - Completed\n"
     ]
    },
    {
     "name": "stderr",
     "output_type": "stream",
     "text": [
      "[*********************100%%**********************]  1 of 1 completed\n",
      "\n",
      "1 Failed download:\n",
      "['CA']: YFChartError(\"%ticker%: Data doesn't exist for startDate = 1459137600, endDate = 1466136000\")\n"
     ]
    },
    {
     "name": "stdout",
     "output_type": "stream",
     "text": [
      "ca - attempt to get argmax of an empty sequence\n"
     ]
    },
    {
     "name": "stderr",
     "output_type": "stream",
     "text": [
      "[*********************100%%**********************]  1 of 1 completed\n",
      "\n",
      "1 Failed download:\n",
      "['CELG']: YFTzMissingError('$%ticker%: possibly delisted; No timezone found')\n"
     ]
    },
    {
     "name": "stdout",
     "output_type": "stream",
     "text": [
      "celg - attempt to get argmax of an empty sequence\n"
     ]
    },
    {
     "name": "stderr",
     "output_type": "stream",
     "text": [
      "[*********************100%%**********************]  1 of 1 completed\n",
      "\n",
      "1 Failed download:\n",
      "['CERN']: YFTzMissingError('$%ticker%: possibly delisted; No timezone found')\n",
      "[*********************100%%**********************]  1 of 1 completed\n",
      "[*********************100%%**********************]  1 of 1 completed"
     ]
    },
    {
     "name": "stdout",
     "output_type": "stream",
     "text": [
      "cern - attempt to get argmax of an empty sequence\n",
      "chkp - Completed\n"
     ]
    },
    {
     "name": "stderr",
     "output_type": "stream",
     "text": [
      "\n",
      "[*********************100%%**********************]  1 of 1 completed\n"
     ]
    },
    {
     "name": "stdout",
     "output_type": "stream",
     "text": [
      "chtr - Completed\n",
      "cmcsa - Completed\n"
     ]
    },
    {
     "name": "stderr",
     "output_type": "stream",
     "text": [
      "[*********************100%%**********************]  1 of 1 completed\n"
     ]
    },
    {
     "name": "stdout",
     "output_type": "stream",
     "text": [
      "cost - Completed\n"
     ]
    },
    {
     "name": "stderr",
     "output_type": "stream",
     "text": [
      "[*********************100%%**********************]  1 of 1 completed\n",
      "[*********************100%%**********************]  1 of 1 completed\n"
     ]
    },
    {
     "name": "stdout",
     "output_type": "stream",
     "text": [
      "csco - Completed\n",
      "csx - Completed\n"
     ]
    },
    {
     "name": "stderr",
     "output_type": "stream",
     "text": [
      "[*********************100%%**********************]  1 of 1 completed\n",
      "\n",
      "1 Failed download:\n",
      "['CTRP']: YFTzMissingError('$%ticker%: possibly delisted; No timezone found')\n",
      "[*********************100%%**********************]  1 of 1 completed\n"
     ]
    },
    {
     "name": "stdout",
     "output_type": "stream",
     "text": [
      "ctrp - attempt to get argmax of an empty sequence\n",
      "ctsh - Completed\n"
     ]
    },
    {
     "name": "stderr",
     "output_type": "stream",
     "text": [
      "[*********************100%%**********************]  1 of 1 completed\n",
      "\n",
      "1 Failed download:\n",
      "['DISCA']: YFTzMissingError('$%ticker%: possibly delisted; No timezone found')\n"
     ]
    },
    {
     "name": "stdout",
     "output_type": "stream",
     "text": [
      "disca - attempt to get argmax of an empty sequence\n"
     ]
    },
    {
     "name": "stderr",
     "output_type": "stream",
     "text": [
      "[*********************100%%**********************]  1 of 1 completed\n",
      "\n",
      "1 Failed download:\n",
      "['DISCK']: YFTzMissingError('$%ticker%: possibly delisted; No timezone found')\n"
     ]
    },
    {
     "name": "stdout",
     "output_type": "stream",
     "text": [
      "disck - attempt to get argmax of an empty sequence\n"
     ]
    },
    {
     "name": "stderr",
     "output_type": "stream",
     "text": [
      "[*********************100%%**********************]  1 of 1 completed\n",
      "\n",
      "1 Failed download:\n",
      "['DISH']: YFTzMissingError('$%ticker%: possibly delisted; No timezone found')\n",
      "[*********************100%%**********************]  1 of 1 completed\n"
     ]
    },
    {
     "name": "stdout",
     "output_type": "stream",
     "text": [
      "dish - attempt to get argmax of an empty sequence\n",
      "dltr - Completed\n"
     ]
    },
    {
     "name": "stderr",
     "output_type": "stream",
     "text": [
      "[*********************100%%**********************]  1 of 1 completed\n",
      "[*********************100%%**********************]  1 of 1 completed\n"
     ]
    },
    {
     "name": "stdout",
     "output_type": "stream",
     "text": [
      "ea - Completed\n",
      "ebay - Completed\n"
     ]
    },
    {
     "name": "stderr",
     "output_type": "stream",
     "text": [
      "[*********************100%%**********************]  1 of 1 completed\n",
      "\n",
      "1 Failed download:\n",
      "['ENDP']: YFInvalidPeriodError(\"%ticker%: Period 'max' is invalid, must be one of ['1d', '5d']\")\n",
      "[*********************100%%**********************]  1 of 1 completed\n"
     ]
    },
    {
     "name": "stdout",
     "output_type": "stream",
     "text": [
      "endp - attempt to get argmax of an empty sequence\n",
      "esrx - Completed\n"
     ]
    },
    {
     "name": "stderr",
     "output_type": "stream",
     "text": [
      "[*********************100%%**********************]  1 of 1 completed\n",
      "[*********************100%%**********************]  1 of 1 completed\n"
     ]
    },
    {
     "name": "stdout",
     "output_type": "stream",
     "text": [
      "expe - Completed\n",
      "fast - Completed\n"
     ]
    },
    {
     "name": "stderr",
     "output_type": "stream",
     "text": [
      "[*********************100%%**********************]  1 of 1 completed\n",
      "\n",
      "1 Failed download:\n",
      "['FB']: YFTzMissingError('$%ticker%: possibly delisted; No timezone found')\n"
     ]
    },
    {
     "name": "stdout",
     "output_type": "stream",
     "text": [
      "fb - attempt to get argmax of an empty sequence\n"
     ]
    },
    {
     "name": "stderr",
     "output_type": "stream",
     "text": [
      "[*********************100%%**********************]  1 of 1 completed\n",
      "\n",
      "1 Failed download:\n",
      "['FISV']: YFChartError(\"%ticker%: Data doesn't exist for startDate = 1459137600, endDate = 1466222400\")\n"
     ]
    },
    {
     "name": "stdout",
     "output_type": "stream",
     "text": [
      "fisv - attempt to get argmax of an empty sequence\n"
     ]
    },
    {
     "name": "stderr",
     "output_type": "stream",
     "text": [
      "[*********************100%%**********************]  1 of 1 completed\n",
      "\n",
      "1 Failed download:\n",
      "['FOX']: YFChartError(\"%ticker%: Data doesn't exist for startDate = 1459137600, endDate = 1466136000\")\n"
     ]
    },
    {
     "name": "stdout",
     "output_type": "stream",
     "text": [
      "fox - attempt to get argmax of an empty sequence\n"
     ]
    },
    {
     "name": "stderr",
     "output_type": "stream",
     "text": [
      "[*********************100%%**********************]  1 of 1 completed\n"
     ]
    },
    {
     "name": "stdout",
     "output_type": "stream",
     "text": [
      "googl - Completed\n"
     ]
    },
    {
     "name": "stderr",
     "output_type": "stream",
     "text": [
      "[*********************100%%**********************]  1 of 1 completed\n",
      "[*********************100%%**********************]  1 of 1 completed"
     ]
    },
    {
     "name": "stdout",
     "output_type": "stream",
     "text": [
      "goog - Completed\n"
     ]
    },
    {
     "name": "stderr",
     "output_type": "stream",
     "text": [
      "\n",
      "[*********************100%%**********************]  1 of 1 completed\n"
     ]
    },
    {
     "name": "stdout",
     "output_type": "stream",
     "text": [
      "jd - Completed\n",
      "lbtya - Completed\n"
     ]
    },
    {
     "name": "stderr",
     "output_type": "stream",
     "text": [
      "[*********************100%%**********************]  1 of 1 completed\n",
      "\n",
      "1 Failed download:\n",
      "['LMCA']: YFPricesMissingError('$%ticker%: possibly delisted; No price data found  (1d 2016-03-28 00:00:00 -> 2016-06-18 00:00:00)')\n"
     ]
    },
    {
     "name": "stdout",
     "output_type": "stream",
     "text": [
      "$LMCA: possibly delisted; No price data found  (1d 2016-03-28 00:00:00 -> 2016-06-18 00:00:00)\n",
      "lmca - attempt to get argmax of an empty sequence\n"
     ]
    },
    {
     "name": "stderr",
     "output_type": "stream",
     "text": [
      "[*********************100%%**********************]  1 of 1 completed\n",
      "\n",
      "1 Failed download:\n",
      "['LMCK']: YFTzMissingError('$%ticker%: possibly delisted; No timezone found')\n",
      "[*********************100%%**********************]  1 of 1 completed\n",
      "\n",
      "1 Failed download:\n",
      "['LVNTA']: YFPricesMissingError('$%ticker%: possibly delisted; No price data found  (1d 2016-03-29 00:00:00 -> 2016-06-18 00:00:00)')\n"
     ]
    },
    {
     "name": "stdout",
     "output_type": "stream",
     "text": [
      "lmck - attempt to get argmax of an empty sequence\n",
      "$LVNTA: possibly delisted; No price data found  (1d 2016-03-29 00:00:00 -> 2016-06-18 00:00:00)\n",
      "lvnta - attempt to get argmax of an empty sequence\n"
     ]
    },
    {
     "name": "stderr",
     "output_type": "stream",
     "text": [
      "[*********************100%%**********************]  1 of 1 completed\n",
      "[*********************100%%**********************]  1 of 1 completed\n"
     ]
    },
    {
     "name": "stdout",
     "output_type": "stream",
     "text": [
      "mar - Completed\n",
      "mdlz - Completed\n"
     ]
    },
    {
     "name": "stderr",
     "output_type": "stream",
     "text": [
      "[*********************100%%**********************]  1 of 1 completed\n",
      "[*********************100%%**********************]  1 of 1 completed\n"
     ]
    },
    {
     "name": "stdout",
     "output_type": "stream",
     "text": [
      "msft - Completed\n",
      "mu - Completed\n"
     ]
    },
    {
     "name": "stderr",
     "output_type": "stream",
     "text": [
      "[*********************100%%**********************]  1 of 1 completed\n",
      "\n",
      "1 Failed download:\n",
      "['MXIM']: YFTzMissingError('$%ticker%: possibly delisted; No timezone found')\n"
     ]
    },
    {
     "name": "stdout",
     "output_type": "stream",
     "text": [
      "mxim - attempt to get argmax of an empty sequence\n"
     ]
    },
    {
     "name": "stderr",
     "output_type": "stream",
     "text": [
      "[*********************100%%**********************]  1 of 1 completed\n",
      "\n",
      "1 Failed download:\n",
      "['MYL']: YFTzMissingError('$%ticker%: possibly delisted; No timezone found')\n",
      "[*********************100%%**********************]  1 of 1 completed\n"
     ]
    },
    {
     "name": "stdout",
     "output_type": "stream",
     "text": [
      "myl - attempt to get argmax of an empty sequence\n",
      "nclh - Completed\n"
     ]
    },
    {
     "name": "stderr",
     "output_type": "stream",
     "text": [
      "[*********************100%%**********************]  1 of 1 completed\n",
      "[*********************100%%**********************]  1 of 1 completed\n"
     ]
    },
    {
     "name": "stdout",
     "output_type": "stream",
     "text": [
      "nflx - Completed\n",
      "ntes - Completed\n"
     ]
    },
    {
     "name": "stderr",
     "output_type": "stream",
     "text": [
      "[*********************100%%**********************]  1 of 1 completed\n",
      "[*********************100%%**********************]  1 of 1 completed\n"
     ]
    },
    {
     "name": "stdout",
     "output_type": "stream",
     "text": [
      "nvda - Completed\n",
      "nxpi - Completed\n"
     ]
    },
    {
     "name": "stderr",
     "output_type": "stream",
     "text": [
      "[*********************100%%**********************]  1 of 1 completed\n",
      "[*********************100%%**********************]  1 of 1 completed\n"
     ]
    },
    {
     "name": "stdout",
     "output_type": "stream",
     "text": [
      "payx - Completed\n",
      "pcar - Completed\n"
     ]
    },
    {
     "name": "stderr",
     "output_type": "stream",
     "text": [
      "[*********************100%%**********************]  1 of 1 completed\n",
      "\n",
      "1 Failed download:\n",
      "['PCLN']: YFPricesMissingError('$%ticker%: possibly delisted; No price data found  (1d 2016-03-28 00:00:00 -> 2016-06-18 00:00:00)')\n",
      "[*********************100%%**********************]  1 of 1 completed"
     ]
    },
    {
     "name": "stdout",
     "output_type": "stream",
     "text": [
      "$PCLN: possibly delisted; No price data found  (1d 2016-03-28 00:00:00 -> 2016-06-18 00:00:00)\n",
      "pcln - attempt to get argmax of an empty sequence\n",
      "pypl - Completed\n"
     ]
    },
    {
     "name": "stderr",
     "output_type": "stream",
     "text": [
      "\n",
      "[*********************100%%**********************]  1 of 1 completed\n",
      "[*********************100%%**********************]  1 of 1 completed\n"
     ]
    },
    {
     "name": "stdout",
     "output_type": "stream",
     "text": [
      "qcom - Completed\n",
      "regn - Completed\n"
     ]
    },
    {
     "name": "stderr",
     "output_type": "stream",
     "text": [
      "[*********************100%%**********************]  1 of 1 completed\n",
      "[*********************100%%**********************]  1 of 1 completed"
     ]
    },
    {
     "name": "stdout",
     "output_type": "stream",
     "text": [
      "rost - Completed\n"
     ]
    },
    {
     "name": "stderr",
     "output_type": "stream",
     "text": [
      "\n",
      "[*********************100%%**********************]  1 of 1 completed"
     ]
    },
    {
     "name": "stdout",
     "output_type": "stream",
     "text": [
      "sbac - Completed\n",
      "$SNDK: possibly delisted; No price data found  (1d 2016-03-28 00:00:00 -> 2016-06-18 00:00:00)\n"
     ]
    },
    {
     "name": "stderr",
     "output_type": "stream",
     "text": [
      "\n",
      "\n",
      "1 Failed download:\n",
      "['SNDK']: YFPricesMissingError('$%ticker%: possibly delisted; No price data found  (1d 2016-03-28 00:00:00 -> 2016-06-18 00:00:00)')\n",
      "[*********************100%%**********************]  1 of 1 completed\n"
     ]
    },
    {
     "name": "stdout",
     "output_type": "stream",
     "text": [
      "sndk - attempt to get argmax of an empty sequence\n",
      "srcl - Completed\n"
     ]
    },
    {
     "name": "stderr",
     "output_type": "stream",
     "text": [
      "[*********************100%%**********************]  1 of 1 completed\n",
      "[*********************100%%**********************]  1 of 1 completed\n"
     ]
    },
    {
     "name": "stdout",
     "output_type": "stream",
     "text": [
      "stx - Completed\n",
      "swks - Completed\n"
     ]
    },
    {
     "name": "stderr",
     "output_type": "stream",
     "text": [
      "[*********************100%%**********************]  1 of 1 completed\n"
     ]
    },
    {
     "name": "stdout",
     "output_type": "stream",
     "text": [
      "tsla - Completed\n"
     ]
    },
    {
     "name": "stderr",
     "output_type": "stream",
     "text": [
      "[*********************100%%**********************]  1 of 1 completed\n",
      "[*********************100%%**********************]  1 of 1 completed\n"
     ]
    },
    {
     "name": "stdout",
     "output_type": "stream",
     "text": [
      "txn - Completed\n",
      "ulta - Completed\n"
     ]
    },
    {
     "name": "stderr",
     "output_type": "stream",
     "text": [
      "[*********************100%%**********************]  1 of 1 completed\n",
      "\n",
      "1 Failed download:\n",
      "['VIAB']: YFTzMissingError('$%ticker%: possibly delisted; No timezone found')\n",
      "[*********************100%%**********************]  1 of 1 completed\n"
     ]
    },
    {
     "name": "stdout",
     "output_type": "stream",
     "text": [
      "viab - attempt to get argmax of an empty sequence\n",
      "wdc - Completed\n"
     ]
    },
    {
     "name": "stderr",
     "output_type": "stream",
     "text": [
      "[*********************100%%**********************]  1 of 1 completed\n",
      "\n",
      "1 Failed download:\n",
      "['YHOO']: YFTzMissingError('$%ticker%: possibly delisted; No timezone found')\n"
     ]
    },
    {
     "name": "stdout",
     "output_type": "stream",
     "text": [
      "yhoo - attempt to get argmax of an empty sequence\n"
     ]
    }
   ],
   "source": [
    "stocks = pd.DataFrame()\n",
    "\n",
    "for x in range(len(files)):\n",
    "    # Some tickers may be delisted, use try/except to avoid errors if ticker does not exist in yFinance\n",
    "    try:\n",
    "        filename = files[x]\n",
    "        data = pd.read_csv('data/'+filename+'/stock_data_sentiment.csv')\n",
    "        \n",
    "        # Convert string time to datetime\n",
    "        data['Datetime'] = pd.to_datetime(data['Datetime'])\n",
    "        data['Month'] = data['Datetime'].dt.month\n",
    "        data['Day'] = data['Datetime'].dt.day\n",
    "        del data['Datetime']\n",
    "        del data['Ticker']\n",
    "        \n",
    "        # Convert 0 sentiment to -1\n",
    "        data.loc[data['Sentiment']==0, 'Sentiment'] = -1\n",
    "        \n",
    "        # Initialize Weights and Tweet numbers \n",
    "        data['Tweets'] = 1\n",
    "        data['Weight'] = 1\n",
    "\n",
    "        # Determine the mean and standard deviation of the number of followers a given user has for a given tweet\n",
    "        # Use rolling average to ensures tweets with less tweets per day are treated equally \n",
    "        data['Followers_Mean'] = data['Followers'].rolling(5000, min_periods=1).mean()\n",
    "        data['Followers_Std'] = data['Followers'].rolling(5000, min_periods=1).std()\n",
    "        data['Followers_Std'] = data['Followers_Std'].fillna(data['Followers_Std'].values[1])\n",
    "        # weight tweets from users with higher follower counts more heavily. Calculate based on mean and standard deviation gates\n",
    "        data.loc[ (data['Followers']>=data['Followers_Mean']) & (data['Followers'] < (data['Followers_Mean']+data['Followers_Std'])), 'Weight'] += 0\n",
    "        data.loc[ (data['Followers']>=(data['Followers_Mean']+data['Followers_Std'])) & (data['Followers'] < (data['Followers_Mean']+data['Followers_Std']*2)), 'Weight'] += 1\n",
    "        data.loc[data['Followers']>=(data['Followers_Mean']+data['Followers_Std']*2), 'Weight'] += 2\n",
    "\n",
    "        # Same process for retweet\n",
    "        data['RTs_Mean'] = data['RTs'].rolling(5000, min_periods=1).mean()\n",
    "        data['RTs_Std'] = data['RTs'].rolling(5000, min_periods=1).std()\n",
    "        data['RTs_Std'] = data['RTs_Std'].fillna(data['RTs_Std'].values[1])\n",
    "        data.loc[ (data['RTs']>=data['RTs_Mean']) & (data['RTs'] < (data['RTs_Mean']+data['RTs_Std'])), 'Weight'] += 0\n",
    "        data.loc[ (data['RTs']>=(data['RTs_Mean']+data['RTs_Std'])) & (data['RTs'] < (data['RTs_Mean']+data['RTs_Std']*2)), 'Weight'] += 1\n",
    "        data.loc[data['RTs']>=(data['RTs_Mean']+data['RTs_Std']*2), 'Weight'] += 2\n",
    "        \n",
    "        # Same process for Favs\n",
    "        data['Favs_Mean'] = data['Favs'].rolling(5000, min_periods=1).mean()\n",
    "        data['Favs_Std'] = data['Favs'].rolling(5000, min_periods=1).std()\n",
    "        data['Favs_Std'] = data['Favs_Std'].fillna(data['RTs_Std'].values[1])\n",
    "        data.loc[ (data['Favs']>=data['Favs_Mean']) & (data['Favs'] < (data['Favs_Mean']+data['Favs_Std'])), 'Weight'] += 0\n",
    "        data.loc[ (data['Favs']>=(data['Favs_Mean']+data['Favs_Std'])) & (data['Favs'] < (data['Favs_Mean']+data['Favs_Std']*2)), 'Weight'] += 1\n",
    "        data.loc[data['Favs']>=(data['Favs_Mean']+data['Favs_Std']*2), 'Weight'] += 2\n",
    "\n",
    "        # multiply the sentiment score by the individual weigth\n",
    "        data['Sentiment_Weighted'] = data['Sentiment']*data['Weight']\n",
    "\n",
    "        # Group the stock data by months and days\n",
    "        data = data.groupby(['Month', 'Day']).sum()            \n",
    "        data['Ticker'] = filename.split('_')[0]\n",
    "        \n",
    "        # Reassign date based on index values of month and day\n",
    "        data['Date'] = pd.to_datetime([ str(x)+'/'+str(y)+'/2016' for (x,y) in data.index.values ])+datetime.timedelta(days=1)\n",
    "        \n",
    "        # Drop the index\n",
    "        data = data.reset_index(drop=True)\n",
    "\n",
    "        # Divide the sentiment by the total number of tweets \n",
    "        data['Sentiment_Weighted'] /= data['Tweets']\n",
    "        \n",
    "        # Get the rolling average of the sentiment and tweet volume\n",
    "        data['Sentiment_mean'] = data['Sentiment_Weighted'].rolling(3, min_periods=1).mean()\n",
    "        data['Tweets_mean'] = data['Tweets'].rolling(3, min_periods=1).mean()\n",
    "\n",
    "        # Get the starting date and ending date to extract stock prices \n",
    "        start_date = data['Date'].min()\n",
    "        end_date = data['Date'].max()+datetime.timedelta(days=2)\n",
    "\n",
    "        # Download stock price data for given range of tweets \n",
    "        prices = yf.download(tickers=filename.split('_')[0], start=start_date, end=end_date).reset_index()\n",
    "        \n",
    "        # Calculate percent change based on stock price changes, shift to align with the time of tweet (we act after seeing the tweet)\n",
    "        prices['Percent_Change'] = (prices['Adj Close'].pct_change()*100).shift(-1)\n",
    "        \n",
    "        # Bin percent changes by amount lost/gained by stock\n",
    "        prices['Percent_Change_Bin'] = pd.cut(prices['Percent_Change'], [-100, 0, 2, 100], labels=[0, 1, 2])\n",
    "        \n",
    "        # Calculate volume change based on stock price changes (Not used yet)\n",
    "        prices['Volume_Change'] = (prices['Volume'].pct_change()*100).shift(-1)     \n",
    "\n",
    "        # Bin volume changes by amount lost/gained by stock\n",
    "        prices['Volume_Change_Bin'] = pd.cut(prices['Volume_Change'], [-100, 0, 20, 100], labels=[0, 1, 2])       \n",
    "\n",
    "        # Combine the stock sentiment data and the pricing data \n",
    "        data = data.merge(prices, on='Date', how='left')\n",
    "\n",
    "        # Remove excess columns \n",
    "        data = data[['Ticker', 'Date', 'Sentiment_Weighted', 'Sentiment_mean', 'Tweets', 'Tweets_mean', 'Adj Close', 'Percent_Change', 'Percent_Change_Bin', 'Volume_Change', 'Volume_Change_Bin','Close',\"Volume\", \"Low\", \"High\", \"Open\"]]\n",
    "        \n",
    "        # Drop missing values for days without pricing information \n",
    "        data = data.dropna().reset_index(drop=True)\n",
    "        \n",
    "        # Save stock sentiment and pricing data to csv\n",
    "        data.to_csv('data/' + filename + '/stock_data_inputs.csv', index=False)\n",
    "        \n",
    "        # Add ticker data to the main data set \n",
    "        stocks = pd.concat([stocks, data])\n",
    "        \n",
    "        # Print status of ticker \n",
    "        print(filename.split('_')[0], '- Completed')\n",
    "        \n",
    "\n",
    "    except Exception as e:\n",
    "        # Print error message\n",
    "        print(filename.split('_')[0], '-', e)"
   ]
  },
  {
   "cell_type": "code",
   "execution_count": null,
   "metadata": {},
   "outputs": [
    {
     "data": {
      "text/html": [
       "<div>\n",
       "<style scoped>\n",
       "    .dataframe tbody tr th:only-of-type {\n",
       "        vertical-align: middle;\n",
       "    }\n",
       "\n",
       "    .dataframe tbody tr th {\n",
       "        vertical-align: top;\n",
       "    }\n",
       "\n",
       "    .dataframe thead th {\n",
       "        text-align: right;\n",
       "    }\n",
       "</style>\n",
       "<table border=\"1\" class=\"dataframe\">\n",
       "  <thead>\n",
       "    <tr style=\"text-align: right;\">\n",
       "      <th></th>\n",
       "      <th>Date</th>\n",
       "      <th>Open</th>\n",
       "      <th>High</th>\n",
       "      <th>Low</th>\n",
       "      <th>Close</th>\n",
       "      <th>Adj Close</th>\n",
       "      <th>Volume</th>\n",
       "    </tr>\n",
       "  </thead>\n",
       "  <tbody>\n",
       "  </tbody>\n",
       "</table>\n",
       "</div>"
      ],
      "text/plain": [
       "Empty DataFrame\n",
       "Columns: [Date, Open, High, Low, Close, Adj Close, Volume]\n",
       "Index: []"
      ]
     },
     "metadata": {},
     "output_type": "display_data"
    }
   ],
   "source": [
    "display(prices)"
   ]
  },
  {
   "cell_type": "code",
   "execution_count": null,
   "metadata": {},
   "outputs": [
    {
     "data": {
      "text/html": [
       "<div>\n",
       "<style scoped>\n",
       "    .dataframe tbody tr th:only-of-type {\n",
       "        vertical-align: middle;\n",
       "    }\n",
       "\n",
       "    .dataframe tbody tr th {\n",
       "        vertical-align: top;\n",
       "    }\n",
       "\n",
       "    .dataframe thead th {\n",
       "        text-align: right;\n",
       "    }\n",
       "</style>\n",
       "<table border=\"1\" class=\"dataframe\">\n",
       "  <thead>\n",
       "    <tr style=\"text-align: right;\">\n",
       "      <th></th>\n",
       "      <th>Ticker</th>\n",
       "      <th>Date</th>\n",
       "      <th>Sentiment_Weighted</th>\n",
       "      <th>Sentiment_mean</th>\n",
       "      <th>Tweets</th>\n",
       "      <th>Tweets_mean</th>\n",
       "      <th>Adj Close</th>\n",
       "      <th>Percent_Change</th>\n",
       "      <th>Percent_Change_Bin</th>\n",
       "      <th>Volume_Change</th>\n",
       "      <th>Volume_Change_Bin</th>\n",
       "      <th>Close</th>\n",
       "      <th>Volume</th>\n",
       "      <th>Low</th>\n",
       "      <th>High</th>\n",
       "      <th>Open</th>\n",
       "    </tr>\n",
       "  </thead>\n",
       "  <tbody>\n",
       "    <tr>\n",
       "      <th>0</th>\n",
       "      <td>aal</td>\n",
       "      <td>2016-03-11</td>\n",
       "      <td>0.090909</td>\n",
       "      <td>0.090909</td>\n",
       "      <td>33</td>\n",
       "      <td>33.000000</td>\n",
       "      <td>40.697010</td>\n",
       "      <td>0.282561</td>\n",
       "      <td>1</td>\n",
       "      <td>-19.880733</td>\n",
       "      <td>0</td>\n",
       "      <td>42.470001</td>\n",
       "      <td>5701500.0</td>\n",
       "      <td>41.700001</td>\n",
       "      <td>42.500000</td>\n",
       "      <td>41.889999</td>\n",
       "    </tr>\n",
       "    <tr>\n",
       "      <th>1</th>\n",
       "      <td>aal</td>\n",
       "      <td>2016-03-14</td>\n",
       "      <td>0.210526</td>\n",
       "      <td>0.143576</td>\n",
       "      <td>19</td>\n",
       "      <td>25.000000</td>\n",
       "      <td>40.812004</td>\n",
       "      <td>-1.127042</td>\n",
       "      <td>0</td>\n",
       "      <td>-2.683888</td>\n",
       "      <td>0</td>\n",
       "      <td>42.590000</td>\n",
       "      <td>4568000.0</td>\n",
       "      <td>42.119999</td>\n",
       "      <td>42.700001</td>\n",
       "      <td>42.310001</td>\n",
       "    </tr>\n",
       "    <tr>\n",
       "      <th>2</th>\n",
       "      <td>aal</td>\n",
       "      <td>2016-03-15</td>\n",
       "      <td>0.200000</td>\n",
       "      <td>0.106539</td>\n",
       "      <td>45</td>\n",
       "      <td>25.000000</td>\n",
       "      <td>40.352036</td>\n",
       "      <td>0.474946</td>\n",
       "      <td>1</td>\n",
       "      <td>7.817069</td>\n",
       "      <td>1</td>\n",
       "      <td>42.110001</td>\n",
       "      <td>4445400.0</td>\n",
       "      <td>41.980000</td>\n",
       "      <td>42.490002</td>\n",
       "      <td>42.299999</td>\n",
       "    </tr>\n",
       "    <tr>\n",
       "      <th>3</th>\n",
       "      <td>aal</td>\n",
       "      <td>2016-03-16</td>\n",
       "      <td>0.341176</td>\n",
       "      <td>0.250568</td>\n",
       "      <td>85</td>\n",
       "      <td>49.666667</td>\n",
       "      <td>40.543686</td>\n",
       "      <td>-0.496327</td>\n",
       "      <td>0</td>\n",
       "      <td>24.363120</td>\n",
       "      <td>2</td>\n",
       "      <td>42.310001</td>\n",
       "      <td>4792900.0</td>\n",
       "      <td>41.590000</td>\n",
       "      <td>42.430000</td>\n",
       "      <td>41.810001</td>\n",
       "    </tr>\n",
       "    <tr>\n",
       "      <th>4</th>\n",
       "      <td>aal</td>\n",
       "      <td>2016-03-18</td>\n",
       "      <td>0.081967</td>\n",
       "      <td>0.230479</td>\n",
       "      <td>61</td>\n",
       "      <td>62.333333</td>\n",
       "      <td>41.626507</td>\n",
       "      <td>0.069079</td>\n",
       "      <td>1</td>\n",
       "      <td>-65.397934</td>\n",
       "      <td>0</td>\n",
       "      <td>43.439999</td>\n",
       "      <td>13746000.0</td>\n",
       "      <td>41.750000</td>\n",
       "      <td>43.529999</td>\n",
       "      <td>42.310001</td>\n",
       "    </tr>\n",
       "    <tr>\n",
       "      <th>...</th>\n",
       "      <td>...</td>\n",
       "      <td>...</td>\n",
       "      <td>...</td>\n",
       "      <td>...</td>\n",
       "      <td>...</td>\n",
       "      <td>...</td>\n",
       "      <td>...</td>\n",
       "      <td>...</td>\n",
       "      <td>...</td>\n",
       "      <td>...</td>\n",
       "      <td>...</td>\n",
       "      <td>...</td>\n",
       "      <td>...</td>\n",
       "      <td>...</td>\n",
       "      <td>...</td>\n",
       "      <td>...</td>\n",
       "    </tr>\n",
       "    <tr>\n",
       "      <th>49</th>\n",
       "      <td>wdc</td>\n",
       "      <td>2016-06-10</td>\n",
       "      <td>0.600000</td>\n",
       "      <td>0.614035</td>\n",
       "      <td>35</td>\n",
       "      <td>58.333333</td>\n",
       "      <td>40.854412</td>\n",
       "      <td>-1.216640</td>\n",
       "      <td>0</td>\n",
       "      <td>-21.877925</td>\n",
       "      <td>0</td>\n",
       "      <td>46.849998</td>\n",
       "      <td>5876700.0</td>\n",
       "      <td>46.430000</td>\n",
       "      <td>47.759998</td>\n",
       "      <td>47.689999</td>\n",
       "    </tr>\n",
       "    <tr>\n",
       "      <th>50</th>\n",
       "      <td>wdc</td>\n",
       "      <td>2016-06-13</td>\n",
       "      <td>0.594595</td>\n",
       "      <td>0.572072</td>\n",
       "      <td>37</td>\n",
       "      <td>30.000000</td>\n",
       "      <td>40.357361</td>\n",
       "      <td>0.259286</td>\n",
       "      <td>1</td>\n",
       "      <td>19.039425</td>\n",
       "      <td>1</td>\n",
       "      <td>46.279999</td>\n",
       "      <td>4591000.0</td>\n",
       "      <td>46.250000</td>\n",
       "      <td>47.490002</td>\n",
       "      <td>46.650002</td>\n",
       "    </tr>\n",
       "    <tr>\n",
       "      <th>51</th>\n",
       "      <td>wdc</td>\n",
       "      <td>2016-06-14</td>\n",
       "      <td>0.710526</td>\n",
       "      <td>0.601707</td>\n",
       "      <td>38</td>\n",
       "      <td>30.333333</td>\n",
       "      <td>40.462002</td>\n",
       "      <td>-0.301729</td>\n",
       "      <td>0</td>\n",
       "      <td>-35.902362</td>\n",
       "      <td>0</td>\n",
       "      <td>46.400002</td>\n",
       "      <td>5465100.0</td>\n",
       "      <td>45.459999</td>\n",
       "      <td>47.430000</td>\n",
       "      <td>46.250000</td>\n",
       "    </tr>\n",
       "    <tr>\n",
       "      <th>52</th>\n",
       "      <td>wdc</td>\n",
       "      <td>2016-06-15</td>\n",
       "      <td>0.333333</td>\n",
       "      <td>0.546151</td>\n",
       "      <td>30</td>\n",
       "      <td>35.000000</td>\n",
       "      <td>40.339916</td>\n",
       "      <td>0.345877</td>\n",
       "      <td>1</td>\n",
       "      <td>-6.151870</td>\n",
       "      <td>0</td>\n",
       "      <td>46.259998</td>\n",
       "      <td>3503000.0</td>\n",
       "      <td>46.009998</td>\n",
       "      <td>47.020000</td>\n",
       "      <td>46.400002</td>\n",
       "    </tr>\n",
       "    <tr>\n",
       "      <th>53</th>\n",
       "      <td>wdc</td>\n",
       "      <td>2016-06-16</td>\n",
       "      <td>3.133333</td>\n",
       "      <td>1.392398</td>\n",
       "      <td>15</td>\n",
       "      <td>27.666667</td>\n",
       "      <td>40.479443</td>\n",
       "      <td>0.366227</td>\n",
       "      <td>1</td>\n",
       "      <td>52.404563</td>\n",
       "      <td>2</td>\n",
       "      <td>46.419998</td>\n",
       "      <td>3287500.0</td>\n",
       "      <td>45.070000</td>\n",
       "      <td>46.509998</td>\n",
       "      <td>45.820000</td>\n",
       "    </tr>\n",
       "  </tbody>\n",
       "</table>\n",
       "<p>2831 rows × 16 columns</p>\n",
       "</div>"
      ],
      "text/plain": [
       "   Ticker       Date  Sentiment_Weighted  Sentiment_mean  Tweets  Tweets_mean  \\\n",
       "0     aal 2016-03-11            0.090909        0.090909      33    33.000000   \n",
       "1     aal 2016-03-14            0.210526        0.143576      19    25.000000   \n",
       "2     aal 2016-03-15            0.200000        0.106539      45    25.000000   \n",
       "3     aal 2016-03-16            0.341176        0.250568      85    49.666667   \n",
       "4     aal 2016-03-18            0.081967        0.230479      61    62.333333   \n",
       "..    ...        ...                 ...             ...     ...          ...   \n",
       "49    wdc 2016-06-10            0.600000        0.614035      35    58.333333   \n",
       "50    wdc 2016-06-13            0.594595        0.572072      37    30.000000   \n",
       "51    wdc 2016-06-14            0.710526        0.601707      38    30.333333   \n",
       "52    wdc 2016-06-15            0.333333        0.546151      30    35.000000   \n",
       "53    wdc 2016-06-16            3.133333        1.392398      15    27.666667   \n",
       "\n",
       "    Adj Close  Percent_Change Percent_Change_Bin  Volume_Change  \\\n",
       "0   40.697010        0.282561                  1     -19.880733   \n",
       "1   40.812004       -1.127042                  0      -2.683888   \n",
       "2   40.352036        0.474946                  1       7.817069   \n",
       "3   40.543686       -0.496327                  0      24.363120   \n",
       "4   41.626507        0.069079                  1     -65.397934   \n",
       "..        ...             ...                ...            ...   \n",
       "49  40.854412       -1.216640                  0     -21.877925   \n",
       "50  40.357361        0.259286                  1      19.039425   \n",
       "51  40.462002       -0.301729                  0     -35.902362   \n",
       "52  40.339916        0.345877                  1      -6.151870   \n",
       "53  40.479443        0.366227                  1      52.404563   \n",
       "\n",
       "   Volume_Change_Bin      Close      Volume        Low       High       Open  \n",
       "0                  0  42.470001   5701500.0  41.700001  42.500000  41.889999  \n",
       "1                  0  42.590000   4568000.0  42.119999  42.700001  42.310001  \n",
       "2                  1  42.110001   4445400.0  41.980000  42.490002  42.299999  \n",
       "3                  2  42.310001   4792900.0  41.590000  42.430000  41.810001  \n",
       "4                  0  43.439999  13746000.0  41.750000  43.529999  42.310001  \n",
       "..               ...        ...         ...        ...        ...        ...  \n",
       "49                 0  46.849998   5876700.0  46.430000  47.759998  47.689999  \n",
       "50                 1  46.279999   4591000.0  46.250000  47.490002  46.650002  \n",
       "51                 0  46.400002   5465100.0  45.459999  47.430000  46.250000  \n",
       "52                 0  46.259998   3503000.0  46.009998  47.020000  46.400002  \n",
       "53                 2  46.419998   3287500.0  45.070000  46.509998  45.820000  \n",
       "\n",
       "[2831 rows x 16 columns]"
      ]
     },
     "metadata": {},
     "output_type": "display_data"
    }
   ],
   "source": [
    "display(stocks)"
   ]
  },
  {
   "cell_type": "code",
   "execution_count": null,
   "metadata": {},
   "outputs": [
    {
     "data": {
      "image/png": "[encoded data removed]",
      "text/plain": [
       "<Figure size 1500x700 with 1 Axes>"
      ]
     },
     "metadata": {},
     "output_type": "display_data"
    }
   ],
   "source": [
    "#Example on how those factors related\n",
    "aal = stocks[stocks['Ticker']=='aal']\n",
    "dates = aal['Date'].sort_values().unique()\n",
    "plt.figure(figsize=(15,7))\n",
    "plt.plot(dates, aal['Tweets'], c='b', label='Tweet')\n",
    "plt.plot(dates, aal['Sentiment_Weighted'], c='y', label='Sentiment')\n",
    "plt.plot(dates, aal['Percent_Change'], c='g', label='Percent_Change')\n",
    "plt.plot(dates, aal['Volume_Change'], c='c', label='Volume_Change')\n",
    "plt.legend()\n",
    "plt.show()"
   ]
  },
  {
   "cell_type": "code",
   "execution_count": null,
   "metadata": {},
   "outputs": [],
   "source": [
    "stocks.to_csv('Stock_with_sentiment.csv', index=False)"
   ]
  },
  {
   "cell_type": "code",
   "execution_count": null,
   "metadata": {},
   "outputs": [
    {
     "data": {
      "text/html": [
       "<div>\n",
       "<style scoped>\n",
       "    .dataframe tbody tr th:only-of-type {\n",
       "        vertical-align: middle;\n",
       "    }\n",
       "\n",
       "    .dataframe tbody tr th {\n",
       "        vertical-align: top;\n",
       "    }\n",
       "\n",
       "    .dataframe thead th {\n",
       "        text-align: right;\n",
       "    }\n",
       "</style>\n",
       "<table border=\"1\" class=\"dataframe\">\n",
       "  <thead>\n",
       "    <tr style=\"text-align: right;\">\n",
       "      <th></th>\n",
       "      <th>Ticker</th>\n",
       "      <th>Date</th>\n",
       "      <th>Sentiment_Weighted</th>\n",
       "      <th>Sentiment_mean</th>\n",
       "      <th>Tweets</th>\n",
       "      <th>Tweets_mean</th>\n",
       "      <th>Adj Close</th>\n",
       "      <th>Percent_Change</th>\n",
       "      <th>Percent_Change_Bin</th>\n",
       "      <th>Volume_Change</th>\n",
       "      <th>Volume_Change_Bin</th>\n",
       "      <th>Close</th>\n",
       "      <th>Volume</th>\n",
       "      <th>Low</th>\n",
       "      <th>High</th>\n",
       "      <th>Open</th>\n",
       "    </tr>\n",
       "  </thead>\n",
       "  <tbody>\n",
       "    <tr>\n",
       "      <th>0</th>\n",
       "      <td>aal</td>\n",
       "      <td>2016-03-11</td>\n",
       "      <td>0.090909</td>\n",
       "      <td>0.090909</td>\n",
       "      <td>33</td>\n",
       "      <td>33.000000</td>\n",
       "      <td>40.697010</td>\n",
       "      <td>0.282561</td>\n",
       "      <td>1</td>\n",
       "      <td>-19.880733</td>\n",
       "      <td>0</td>\n",
       "      <td>42.470001</td>\n",
       "      <td>5701500.0</td>\n",
       "      <td>41.700001</td>\n",
       "      <td>42.500000</td>\n",
       "      <td>41.889999</td>\n",
       "    </tr>\n",
       "    <tr>\n",
       "      <th>1</th>\n",
       "      <td>aal</td>\n",
       "      <td>2016-03-14</td>\n",
       "      <td>0.210526</td>\n",
       "      <td>0.143576</td>\n",
       "      <td>19</td>\n",
       "      <td>25.000000</td>\n",
       "      <td>40.812004</td>\n",
       "      <td>-1.127042</td>\n",
       "      <td>0</td>\n",
       "      <td>-2.683888</td>\n",
       "      <td>0</td>\n",
       "      <td>42.590000</td>\n",
       "      <td>4568000.0</td>\n",
       "      <td>42.119999</td>\n",
       "      <td>42.700001</td>\n",
       "      <td>42.310001</td>\n",
       "    </tr>\n",
       "    <tr>\n",
       "      <th>2</th>\n",
       "      <td>aal</td>\n",
       "      <td>2016-03-15</td>\n",
       "      <td>0.200000</td>\n",
       "      <td>0.106539</td>\n",
       "      <td>45</td>\n",
       "      <td>25.000000</td>\n",
       "      <td>40.352036</td>\n",
       "      <td>0.474946</td>\n",
       "      <td>1</td>\n",
       "      <td>7.817069</td>\n",
       "      <td>1</td>\n",
       "      <td>42.110001</td>\n",
       "      <td>4445400.0</td>\n",
       "      <td>41.980000</td>\n",
       "      <td>42.490002</td>\n",
       "      <td>42.299999</td>\n",
       "    </tr>\n",
       "    <tr>\n",
       "      <th>3</th>\n",
       "      <td>aal</td>\n",
       "      <td>2016-03-16</td>\n",
       "      <td>0.341176</td>\n",
       "      <td>0.250568</td>\n",
       "      <td>85</td>\n",
       "      <td>49.666667</td>\n",
       "      <td>40.543686</td>\n",
       "      <td>-0.496327</td>\n",
       "      <td>0</td>\n",
       "      <td>24.363120</td>\n",
       "      <td>2</td>\n",
       "      <td>42.310001</td>\n",
       "      <td>4792900.0</td>\n",
       "      <td>41.590000</td>\n",
       "      <td>42.430000</td>\n",
       "      <td>41.810001</td>\n",
       "    </tr>\n",
       "    <tr>\n",
       "      <th>4</th>\n",
       "      <td>aal</td>\n",
       "      <td>2016-03-18</td>\n",
       "      <td>0.081967</td>\n",
       "      <td>0.230479</td>\n",
       "      <td>61</td>\n",
       "      <td>62.333333</td>\n",
       "      <td>41.626507</td>\n",
       "      <td>0.069079</td>\n",
       "      <td>1</td>\n",
       "      <td>-65.397934</td>\n",
       "      <td>0</td>\n",
       "      <td>43.439999</td>\n",
       "      <td>13746000.0</td>\n",
       "      <td>41.750000</td>\n",
       "      <td>43.529999</td>\n",
       "      <td>42.310001</td>\n",
       "    </tr>\n",
       "    <tr>\n",
       "      <th>...</th>\n",
       "      <td>...</td>\n",
       "      <td>...</td>\n",
       "      <td>...</td>\n",
       "      <td>...</td>\n",
       "      <td>...</td>\n",
       "      <td>...</td>\n",
       "      <td>...</td>\n",
       "      <td>...</td>\n",
       "      <td>...</td>\n",
       "      <td>...</td>\n",
       "      <td>...</td>\n",
       "      <td>...</td>\n",
       "      <td>...</td>\n",
       "      <td>...</td>\n",
       "      <td>...</td>\n",
       "      <td>...</td>\n",
       "    </tr>\n",
       "    <tr>\n",
       "      <th>56</th>\n",
       "      <td>aal</td>\n",
       "      <td>2016-06-09</td>\n",
       "      <td>0.316456</td>\n",
       "      <td>0.317672</td>\n",
       "      <td>79</td>\n",
       "      <td>109.000000</td>\n",
       "      <td>32.098179</td>\n",
       "      <td>-0.778438</td>\n",
       "      <td>0</td>\n",
       "      <td>0.781603</td>\n",
       "      <td>1</td>\n",
       "      <td>33.400002</td>\n",
       "      <td>8188300.0</td>\n",
       "      <td>32.250000</td>\n",
       "      <td>33.580002</td>\n",
       "      <td>32.250000</td>\n",
       "    </tr>\n",
       "    <tr>\n",
       "      <th>57</th>\n",
       "      <td>aal</td>\n",
       "      <td>2016-06-10</td>\n",
       "      <td>0.393258</td>\n",
       "      <td>0.380657</td>\n",
       "      <td>89</td>\n",
       "      <td>107.666667</td>\n",
       "      <td>31.848314</td>\n",
       "      <td>-4.043458</td>\n",
       "      <td>0</td>\n",
       "      <td>11.794288</td>\n",
       "      <td>1</td>\n",
       "      <td>33.139999</td>\n",
       "      <td>8252300.0</td>\n",
       "      <td>32.639999</td>\n",
       "      <td>33.480000</td>\n",
       "      <td>32.799999</td>\n",
       "    </tr>\n",
       "    <tr>\n",
       "      <th>58</th>\n",
       "      <td>aal</td>\n",
       "      <td>2016-06-13</td>\n",
       "      <td>0.545455</td>\n",
       "      <td>0.216112</td>\n",
       "      <td>22</td>\n",
       "      <td>74.000000</td>\n",
       "      <td>30.560541</td>\n",
       "      <td>-4.528288</td>\n",
       "      <td>0</td>\n",
       "      <td>49.615201</td>\n",
       "      <td>2</td>\n",
       "      <td>31.799999</td>\n",
       "      <td>9225600.0</td>\n",
       "      <td>31.639999</td>\n",
       "      <td>32.990002</td>\n",
       "      <td>32.990002</td>\n",
       "    </tr>\n",
       "    <tr>\n",
       "      <th>59</th>\n",
       "      <td>aal</td>\n",
       "      <td>2016-06-14</td>\n",
       "      <td>0.159664</td>\n",
       "      <td>0.149018</td>\n",
       "      <td>119</td>\n",
       "      <td>57.333333</td>\n",
       "      <td>29.176672</td>\n",
       "      <td>0.428183</td>\n",
       "      <td>1</td>\n",
       "      <td>-40.937774</td>\n",
       "      <td>0</td>\n",
       "      <td>30.360001</td>\n",
       "      <td>13802900.0</td>\n",
       "      <td>30.020000</td>\n",
       "      <td>31.969999</td>\n",
       "      <td>31.809999</td>\n",
       "    </tr>\n",
       "    <tr>\n",
       "      <th>60</th>\n",
       "      <td>aal</td>\n",
       "      <td>2016-06-16</td>\n",
       "      <td>-1.470588</td>\n",
       "      <td>-0.210024</td>\n",
       "      <td>17</td>\n",
       "      <td>92.333333</td>\n",
       "      <td>28.004219</td>\n",
       "      <td>0.686345</td>\n",
       "      <td>1</td>\n",
       "      <td>-16.092824</td>\n",
       "      <td>0</td>\n",
       "      <td>29.139999</td>\n",
       "      <td>18236700.0</td>\n",
       "      <td>29.020000</td>\n",
       "      <td>29.799999</td>\n",
       "      <td>29.799999</td>\n",
       "    </tr>\n",
       "  </tbody>\n",
       "</table>\n",
       "<p>61 rows × 16 columns</p>\n",
       "</div>"
      ],
      "text/plain": [
       "   Ticker       Date  Sentiment_Weighted  Sentiment_mean  Tweets  Tweets_mean  \\\n",
       "0     aal 2016-03-11            0.090909        0.090909      33    33.000000   \n",
       "1     aal 2016-03-14            0.210526        0.143576      19    25.000000   \n",
       "2     aal 2016-03-15            0.200000        0.106539      45    25.000000   \n",
       "3     aal 2016-03-16            0.341176        0.250568      85    49.666667   \n",
       "4     aal 2016-03-18            0.081967        0.230479      61    62.333333   \n",
       "..    ...        ...                 ...             ...     ...          ...   \n",
       "56    aal 2016-06-09            0.316456        0.317672      79   109.000000   \n",
       "57    aal 2016-06-10            0.393258        0.380657      89   107.666667   \n",
       "58    aal 2016-06-13            0.545455        0.216112      22    74.000000   \n",
       "59    aal 2016-06-14            0.159664        0.149018     119    57.333333   \n",
       "60    aal 2016-06-16           -1.470588       -0.210024      17    92.333333   \n",
       "\n",
       "    Adj Close  Percent_Change Percent_Change_Bin  Volume_Change  \\\n",
       "0   40.697010        0.282561                  1     -19.880733   \n",
       "1   40.812004       -1.127042                  0      -2.683888   \n",
       "2   40.352036        0.474946                  1       7.817069   \n",
       "3   40.543686       -0.496327                  0      24.363120   \n",
       "4   41.626507        0.069079                  1     -65.397934   \n",
       "..        ...             ...                ...            ...   \n",
       "56  32.098179       -0.778438                  0       0.781603   \n",
       "57  31.848314       -4.043458                  0      11.794288   \n",
       "58  30.560541       -4.528288                  0      49.615201   \n",
       "59  29.176672        0.428183                  1     -40.937774   \n",
       "60  28.004219        0.686345                  1     -16.092824   \n",
       "\n",
       "   Volume_Change_Bin      Close      Volume        Low       High       Open  \n",
       "0                  0  42.470001   5701500.0  41.700001  42.500000  41.889999  \n",
       "1                  0  42.590000   4568000.0  42.119999  42.700001  42.310001  \n",
       "2                  1  42.110001   4445400.0  41.980000  42.490002  42.299999  \n",
       "3                  2  42.310001   4792900.0  41.590000  42.430000  41.810001  \n",
       "4                  0  43.439999  13746000.0  41.750000  43.529999  42.310001  \n",
       "..               ...        ...         ...        ...        ...        ...  \n",
       "56                 1  33.400002   8188300.0  32.250000  33.580002  32.250000  \n",
       "57                 1  33.139999   8252300.0  32.639999  33.480000  32.799999  \n",
       "58                 2  31.799999   9225600.0  31.639999  32.990002  32.990002  \n",
       "59                 0  30.360001  13802900.0  30.020000  31.969999  31.809999  \n",
       "60                 0  29.139999  18236700.0  29.020000  29.799999  29.799999  \n",
       "\n",
       "[61 rows x 16 columns]"
      ]
     },
     "metadata": {},
     "output_type": "display_data"
    }
   ],
   "source": [
    "display(aal)"
   ]
  },
  {
   "cell_type": "code",
   "execution_count": null,
   "metadata": {},
   "outputs": [],
   "source": []
  }
 ],
 "metadata": {
  "kernelspec": {
   "display_name": "base",
   "language": "python",
   "name": "python3"
  },
  "language_info": {
   "codemirror_mode": {
    "name": "ipython",
    "version": 3
   },
   "file_extension": ".py",
   "mimetype": "text/x-python",
   "name": "python",
   "nbconvert_exporter": "python",
   "pygments_lexer": "ipython3",
   "version": "3.11.7"
  }
 },
 "nbformat": 4,
 "nbformat_minor": 2
}
